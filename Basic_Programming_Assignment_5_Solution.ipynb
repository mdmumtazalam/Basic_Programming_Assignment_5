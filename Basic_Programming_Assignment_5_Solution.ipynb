{
  "cells": [
    {
      "cell_type": "markdown",
      "id": "3746c082",
      "metadata": {
        "id": "3746c082"
      },
      "source": [
        "# Basic_Programming_Assignment_5 Solution :-\n",
        "SUBMITTED BY : MD MUMTAZ ALAM"
      ]
    },
    {
      "cell_type": "markdown",
      "id": "eb3f91e0",
      "metadata": {
        "id": "eb3f91e0"
      },
      "source": [
        "## 1. Write a Python Program to find LCM ?"
      ]
    },
    {
      "cell_type": "code",
      "execution_count": null,
      "id": "6f34c8ce",
      "metadata": {
        "id": "6f34c8ce",
        "outputId": "dbe565ae-47c2-4d4a-8dee-231340db16e0"
      },
      "outputs": [
        {
          "name": "stdout",
          "output_type": "stream",
          "text": [
            "The LCM of 30,60 is 60\n",
            "The LCM of 15,20 is 60\n",
            "The LCM of 54,1000 is 27000\n"
          ]
        }
      ],
      "source": [
        "def findTheLcm(x_term,y_term):\n",
        "    if x_term > y_term:\n",
        "        greater = x_term\n",
        "    else:\n",
        "        greater = x_term\n",
        "    while True:\n",
        "        if((greater%x_term == 0) and (greater%y_term == 0)):\n",
        "            lcm = greater\n",
        "            break\n",
        "        else:\n",
        "            greater +=1\n",
        "    print(f'The LCM of {x_term},{y_term} is {lcm}')\n",
        "\n",
        "findTheLcm(30,60)\n",
        "findTheLcm(15,20)\n",
        "findTheLcm(54,1000)"
      ]
    },
    {
      "cell_type": "markdown",
      "id": "0e2bc8d3",
      "metadata": {
        "id": "0e2bc8d3"
      },
      "source": [
        "## 2. Write a Python Program to find HCF ?"
      ]
    },
    {
      "cell_type": "code",
      "execution_count": null,
      "id": "62797109",
      "metadata": {
        "id": "62797109",
        "outputId": "63c723f0-29f5-469c-a05c-20c09f4bf510"
      },
      "outputs": [
        {
          "name": "stdout",
          "output_type": "stream",
          "text": [
            "The HCF of 16,112 is 16\n",
            "The HCF of 12,13 is 1\n",
            "The HCF of 110,123 is 1\n"
          ]
        }
      ],
      "source": [
        "def findTheHcf(x_term,y_term):\n",
        "    if x_term>y_term:\n",
        "        smaller = y_term\n",
        "    else:\n",
        "        smaller = x_term\n",
        "    for ele in range(1,smaller+1):\n",
        "        if((x_term%ele == 0) and (y_term%ele == 0)):\n",
        "            hcf = ele\n",
        "    print(f'The HCF of {x_term},{y_term} is {hcf}')\n",
        "\n",
        "findTheHcf(16,112)\n",
        "findTheHcf(12,13)\n",
        "findTheHcf(110,123)"
      ]
    },
    {
      "cell_type": "markdown",
      "id": "a9cebf47",
      "metadata": {
        "id": "a9cebf47"
      },
      "source": [
        "## 3. Write a Python Program to Convert Decimal to Binary, Octal and Hexadecimal ?"
      ]
    },
    {
      "cell_type": "code",
      "execution_count": null,
      "id": "98b97df1",
      "metadata": {
        "id": "98b97df1",
        "outputId": "d8646cb2-29f8-4733-d6a6-a48c639cf9a2"
      },
      "outputs": [
        {
          "name": "stdout",
          "output_type": "stream",
          "text": [
            "Enter a Number: 55\n",
            "Binary Number -> 0b110111\n",
            "Octal Number -> 0o67\n",
            "Hexadecimal Number -> 0x37\n"
          ]
        }
      ],
      "source": [
        "def DecimalToOther():\n",
        "    num = int(input('Enter a Number: '))\n",
        "    print(f'Binary Number -> {bin(num)}')\n",
        "    print(f'Octal Number -> {oct(num)}')    \n",
        "    print(f'Hexadecimal Number -> {hex(num)}')    \n",
        "\n",
        "DecimalToOther()"
      ]
    },
    {
      "cell_type": "markdown",
      "id": "13ce0cd4",
      "metadata": {
        "id": "13ce0cd4"
      },
      "source": [
        "## 4. Write a Python Program to Find the ASCII value of a Character ?"
      ]
    },
    {
      "cell_type": "code",
      "execution_count": null,
      "id": "c7c3d31a",
      "metadata": {
        "id": "c7c3d31a",
        "outputId": "f14e9777-f832-45e5-9ba0-d74e88196055"
      },
      "outputs": [
        {
          "name": "stdout",
          "output_type": "stream",
          "text": [
            "Enter a Character: h\n",
            "Ascii Character of h is 104\n"
          ]
        }
      ],
      "source": [
        "def charToAscii():\n",
        "    char = input('Enter a Character: ')\n",
        "    if len(char) > 1:\n",
        "        print('Please Enter a Single Character')\n",
        "    else:\n",
        "        print(f'Ascii Character of {char} is {ord(char)}')\n",
        "\n",
        "charToAscii()"
      ]
    },
    {
      "cell_type": "markdown",
      "id": "06cd97d3",
      "metadata": {
        "id": "06cd97d3"
      },
      "source": [
        "## 5. Write a Python Program to Make a Simple Calculator with 4 Basic Mathematical operations ?"
      ]
    },
    {
      "cell_type": "code",
      "execution_count": null,
      "id": "028d76f3",
      "metadata": {
        "id": "028d76f3",
        "outputId": "a9b88f50-3e10-4b63-c3e9-0de2bcc79936"
      },
      "outputs": [
        {
          "name": "stdout",
          "output_type": "stream",
          "text": [
            "Select a Arithmetic Operation:         \n",
            "1.Addition(+)        \n",
            "2.Division(-)        \n",
            "2.Multiplication(*)        \n",
            "4.Division(/)        \n",
            "3.Stop(0)\n",
            "\n",
            "Enter a arithmetic operation -> 3\n",
            "Please enter a valid operator\n",
            "Enter a arithmetic operation -> *\n",
            "\n",
            "Enter 1st Number: 5\n",
            "Enter 2nd Number: 7\n",
            "5*7=35\n",
            "\n",
            "Enter a arithmetic operation -> 0\n",
            "Program Stopped successfully\n"
          ]
        }
      ],
      "source": [
        "import operator\n",
        "\n",
        "ops = { \"+\": operator.add, \"-\": operator.sub, \"*\":operator.mul, \"/\":operator.truediv } \n",
        "\n",
        "print('Select a Arithmetic Operation: \\\n",
        "        \\n1.Addition(+)\\\n",
        "        \\n2.Division(-)\\\n",
        "        \\n2.Multiplication(*)\\\n",
        "        \\n4.Division(/)\\\n",
        "        \\n3.Stop(0)\\n')\n",
        "   \n",
        "\n",
        "while True:\n",
        "    operator = input('Enter a arithmetic operation -> ')\n",
        "    if operator == '0':\n",
        "        print(\"Program Stopped successfully\")\n",
        "        break\n",
        "    elif operator not in ['+','-','*','/']:\n",
        "        print(\"Please enter a valid operator\")\n",
        "    else:\n",
        "        num_1 = int(input('\\nEnter 1st Number: '))\n",
        "        num_2 = int(input('Enter 2nd Number: '))\n",
        "        print(f'{num_1}{operator}{num_2}={ops[operator](num_1,num_2)}\\n')"
      ]
    },
    {
      "cell_type": "markdown",
      "id": "724d1dd0",
      "metadata": {
        "id": "724d1dd0"
      },
      "source": [
        "# Thank You"
      ]
    }
  ],
  "metadata": {
    "kernelspec": {
      "display_name": "Python 3 (ipykernel)",
      "language": "python",
      "name": "python3"
    },
    "language_info": {
      "codemirror_mode": {
        "name": "ipython",
        "version": 3
      },
      "file_extension": ".py",
      "mimetype": "text/x-python",
      "name": "python",
      "nbconvert_exporter": "python",
      "pygments_lexer": "ipython3",
      "version": "3.9.7"
    },
    "colab": {
      "provenance": []
    }
  },
  "nbformat": 4,
  "nbformat_minor": 5
}